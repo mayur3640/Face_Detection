{
 "cells": [
  {
   "cell_type": "markdown",
   "metadata": {},
   "source": [
    "# Use Space-bar to Capture and Save frames as image"
   ]
  },
  {
   "cell_type": "code",
   "execution_count": 2,
   "metadata": {},
   "outputs": [
    {
     "name": "stdout",
     "output_type": "stream",
     "text": [
      "0.png written!\n",
      "1.png written!\n",
      "2.png written!\n",
      "3.png written!\n",
      "4.png written!\n",
      "5.png written!\n",
      "6.png written!\n",
      "7.png written!\n",
      "8.png written!\n",
      "9.png written!\n",
      "10.png written!\n",
      "11.png written!\n",
      "12.png written!\n",
      "13.png written!\n",
      "14.png written!\n",
      "15.png written!\n",
      "16.png written!\n",
      "17.png written!\n",
      "18.png written!\n",
      "19.png written!\n",
      "20.png written!\n",
      "21.png written!\n",
      "22.png written!\n",
      "23.png written!\n",
      "24.png written!\n",
      "25.png written!\n",
      "26.png written!\n",
      "27.png written!\n",
      "28.png written!\n",
      "29.png written!\n",
      "30.png written!\n",
      "Escape hit, closing...\n"
     ]
    }
   ],
   "source": [
    "import cv2\n",
    "\n",
    "cam = cv2.VideoCapture(0)\n",
    "\n",
    "cv2.namedWindow(\"test\")\n",
    "\n",
    "img_counter = 0\n",
    "\n",
    "while True:\n",
    "    ret, frame = cam.read()\n",
    "    if not ret:\n",
    "        print(\"failed to grab frame\")\n",
    "        break\n",
    "    cv2.imshow(\"test\", frame)\n",
    "\n",
    "    k = cv2.waitKey(1)\n",
    "    if k == ord('q'):\n",
    "        print(\"Escape hit, closing...\")\n",
    "        break\n",
    "    elif k%256 == 32:\n",
    "        # SPACE pressed\n",
    "        img_name = \"{}.png\".format(img_counter)\n",
    "        cv2.imwrite(img_name, frame)\n",
    "        print(\"{} written!\".format(img_name))\n",
    "        img_counter += 1\n",
    "\n",
    "cam.release()\n",
    "\n",
    "cv2.destroyAllWindows()"
   ]
  },
  {
   "cell_type": "code",
   "execution_count": null,
   "metadata": {},
   "outputs": [],
   "source": []
  },
  {
   "cell_type": "markdown",
   "metadata": {},
   "source": [
    "# Automatic Capture and Save frames as image"
   ]
  },
  {
   "cell_type": "code",
   "execution_count": 5,
   "metadata": {},
   "outputs": [
    {
     "name": "stdout",
     "output_type": "stream",
     "text": [
      "open_0.png written!\n",
      "open_1.png written!\n",
      "open_2.png written!\n",
      "open_3.png written!\n",
      "open_4.png written!\n",
      "open_5.png written!\n",
      "open_6.png written!\n",
      "open_7.png written!\n",
      "open_8.png written!\n",
      "open_9.png written!\n",
      "open_10.png written!\n",
      "open_11.png written!\n",
      "open_12.png written!\n",
      "open_13.png written!\n",
      "open_14.png written!\n",
      "open_15.png written!\n",
      "open_16.png written!\n",
      "open_17.png written!\n",
      "open_18.png written!\n",
      "open_19.png written!\n"
     ]
    }
   ],
   "source": [
    "import cv2,time\n",
    "\n",
    "cam = cv2.VideoCapture(0)\n",
    "\n",
    "cv2.namedWindow(\"test\")\n",
    "\n",
    "img_counter = 0\n",
    "\n",
    "while True:\n",
    "    ret, frame = cam.read()\n",
    "    if not ret:\n",
    "        print(\"failed to grab frame\")\n",
    "        break\n",
    "    cv2.imshow(\"test\", frame)\n",
    "    \n",
    "    time.sleep(5)\n",
    "    \n",
    "    for i in range(20):\n",
    "        img_name = \"open_{}.png\".format(img_counter)\n",
    "        cv2.imwrite(img_name, frame)\n",
    "        print(\"{} written!\".format(img_name))\n",
    "        img_counter += 1\n",
    "        k = cv2.waitKey(1)\n",
    "        if k == ord('q'):\n",
    "            print(\"Escape hit, closing...\")\n",
    "            break\n",
    "    break\n",
    "\n",
    "cam.release()\n",
    "\n",
    "cv2.destroyAllWindows()"
   ]
  },
  {
   "cell_type": "code",
   "execution_count": null,
   "metadata": {},
   "outputs": [],
   "source": []
  }
 ],
 "metadata": {
  "kernelspec": {
   "display_name": "Python 3",
   "language": "python",
   "name": "python3"
  },
  "language_info": {
   "codemirror_mode": {
    "name": "ipython",
    "version": 3
   },
   "file_extension": ".py",
   "mimetype": "text/x-python",
   "name": "python",
   "nbconvert_exporter": "python",
   "pygments_lexer": "ipython3",
   "version": "3.7.7"
  }
 },
 "nbformat": 4,
 "nbformat_minor": 4
}
